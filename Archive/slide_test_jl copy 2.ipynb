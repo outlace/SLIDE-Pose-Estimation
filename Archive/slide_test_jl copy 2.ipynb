{
 "cells": [
  {
   "cell_type": "code",
   "execution_count": 1,
   "source": [
    "using Flux\n",
    "using Zygote\n",
    "using LinearAlgebra;"
   ],
   "outputs": [],
   "metadata": {}
  },
  {
   "cell_type": "code",
   "execution_count": 2,
   "source": [
    "mutable struct Layer\n",
    "    theta::Matrix{Float64}\n",
    "    bias::Matrix{Float64}\n",
    "end"
   ],
   "outputs": [],
   "metadata": {}
  },
  {
   "cell_type": "code",
   "execution_count": 3,
   "source": [
    "layer1 = Layer(randn(784,512),randn(1,512))\n",
    "layer2 = Layer(randn(512,10),randn(1,10))\n",
    "layers = [layer1,layer2];"
   ],
   "outputs": [],
   "metadata": {}
  },
  {
   "cell_type": "code",
   "execution_count": 4,
   "source": [
    "function run_layer(X::Matrix,layer::Layer)\n",
    "    #e1 = isempty(cols)\n",
    "    #e2 = isempty(rows)\n",
    "    #bias = e1 ? layer.bias : layer.bias[:,cols]\n",
    "    #theta_ = e1 ? layer.theta : layer.theta[:,cols]\n",
    "    #theta = e2 ? copy(theta_) : copy(theta_[rows,:]);\n",
    "    y_ = X * layer.theta .+ layer.bias \n",
    "    return y_\n",
    "end"
   ],
   "outputs": [
    {
     "output_type": "execute_result",
     "data": {
      "text/plain": [
       "run_layer (generic function with 1 method)"
      ]
     },
     "metadata": {},
     "execution_count": 4
    }
   ],
   "metadata": {}
  },
  {
   "cell_type": "code",
   "execution_count": 20,
   "source": [
    "function model(X::Array,layers::Vector{Layer},S::Vector{Int64})\n",
    "    #layer 1\n",
    "    A1 = X * layers[1].theta[:,S] .+ layers[1].bias[:,S]\n",
    "    A1 = Flux.normalise(A1;dims=ndims(A1), ϵ=1e-5)\n",
    "    A1 = NNlib.relu.(A1)\n",
    "    #layer 2\n",
    "    A2 = A1 * layers[2].theta[S,:] .+ layers[2].bias\n",
    "    A2 = Flux.normalise(A2;dims=ndims(A2), ϵ=1e-5)\n",
    "    A2 = NNlib.softmax(A2,dims=2)\n",
    "    return A2\n",
    "end"
   ],
   "outputs": [
    {
     "output_type": "execute_result",
     "data": {
      "text/plain": [
       "model (generic function with 2 methods)"
      ]
     },
     "metadata": {},
     "execution_count": 20
    }
   ],
   "metadata": {}
  },
  {
   "cell_type": "code",
   "execution_count": 23,
   "source": [
    "#run_layer(batch_x,layers[1],sort([x for x in S]),Vector{Int64}([]))\n",
    "model(randn(1,784), layers,[1,50,90,112,145,240,300,301,500,505,506,511])"
   ],
   "outputs": [
    {
     "output_type": "stream",
     "name": "stdout",
     "text": [
      "(1, 12)\n"
     ]
    },
    {
     "output_type": "execute_result",
     "data": {
      "text/plain": [
       "1×10 Matrix{Float64}:\n",
       " 0.242445  0.154055  0.0663115  0.00985597  …  0.021322  0.0375593  0.0373971"
      ]
     },
     "metadata": {},
     "execution_count": 23
    }
   ],
   "metadata": {}
  },
  {
   "cell_type": "code",
   "execution_count": 22,
   "source": [
    "lossfn(ŷ::Vector{Float64},y::Vector{Float64}) = -1.0 * LinearAlgebra.dot(log.(ŷ),y)"
   ],
   "outputs": [
    {
     "output_type": "execute_result",
     "data": {
      "text/plain": [
       "lossfn (generic function with 1 method)"
      ]
     },
     "metadata": {},
     "execution_count": 22
    }
   ],
   "metadata": {}
  },
  {
   "cell_type": "code",
   "execution_count": 25,
   "source": [
    "S = [1,50,90,112,145,240,300,301,500,505];\n",
    "g = Zygote.gradient(w -> lossfn(vec(model(randn(1,784),w,[1,50,90,112,145,240,300,301,500,505,506,511])),[1.0,0,0,0,0,0,0,0,0,0]),layers)\n",
    "#g = Zygote.gradient((ypred,ytrue) -> lossfn(ypred,ytrue),(A2,batch_y))\n",
    "#println(g);"
   ],
   "outputs": [
    {
     "output_type": "stream",
     "name": "stdout",
     "text": [
      "(1, 12)\n"
     ]
    }
   ],
   "metadata": {}
  },
  {
   "cell_type": "code",
   "execution_count": null,
   "source": [],
   "outputs": [],
   "metadata": {}
  }
 ],
 "metadata": {
  "orig_nbformat": 4,
  "language_info": {
   "name": "python",
   "version": "3.8.0",
   "mimetype": "text/x-python",
   "codemirror_mode": {
    "name": "ipython",
    "version": 3
   },
   "pygments_lexer": "ipython3",
   "nbconvert_exporter": "python",
   "file_extension": ".py"
  },
  "kernelspec": {
   "name": "python3",
   "display_name": "Python 3.8.0 64-bit ('slide': conda)"
  },
  "interpreter": {
   "hash": "4ecd5b0def40d11926eb769baa0f5c5b6e342746dd5b6c5b03c4754dea9d1700"
  }
 },
 "nbformat": 4,
 "nbformat_minor": 2
}