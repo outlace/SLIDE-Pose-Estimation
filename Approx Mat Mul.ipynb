{
 "cells": [
  {
   "cell_type": "code",
   "execution_count": 7,
   "id": "262af8e7-3947-479b-865b-19b80230f24b",
   "metadata": {},
   "outputs": [],
   "source": [
    "using Flux\n",
    "using Zygote\n",
    "using BenchmarkTools\n",
    "using LinearAlgebra\n",
    "using Pkg;\n",
    "using Plots;"
   ]
  },
  {
   "cell_type": "markdown",
   "id": "d08e2654",
   "metadata": {},
   "source": [
    "### This notebook is just testing how to get gradients from a matrix subsampling procedure."
   ]
  },
  {
   "cell_type": "code",
   "execution_count": 2,
   "id": "9ed87097-c0fd-40d7-8271-56e4d09f79f2",
   "metadata": {},
   "outputs": [],
   "source": [
    "#Pkg.add(url=\"https://github.com/JuliaDiff/Diffractor.jl\")"
   ]
  },
  {
   "cell_type": "code",
   "execution_count": 3,
   "id": "5f509299-ed77-4131-9445-985da7c10a2a",
   "metadata": {},
   "outputs": [
    {
     "data": {
      "text/plain": [
       "test2b (generic function with 1 method)"
      ]
     },
     "execution_count": 3,
     "metadata": {},
     "output_type": "execute_result"
    }
   ],
   "source": [
    "function test1(x,W)\n",
    "    return sum(x * W)\n",
    "end\n",
    "\n",
    "function test2(x,W,S)\n",
    "    temp = view(W, :, S)\n",
    "    return sum(x * temp)\n",
    "end\n",
    "\n",
    "function test2b(x,W)\n",
    "    S = rand(1:dim2,50);\n",
    "    temp = view(W, :, S)\n",
    "    return sum(x * temp)\n",
    "end"
   ]
  },
  {
   "cell_type": "code",
   "execution_count": 5,
   "id": "565f73ac-66f0-418c-a02e-f6cef55ba270",
   "metadata": {},
   "outputs": [],
   "source": [
    "dim1,dim2 = 784,1000\n",
    "x = randn(1,dim1);\n",
    "W1 = fill(0.01,(dim1,dim2));#randn(dim1,dim2);\n",
    "W2 = fill(0.01,(dim1,dim2));#randn(dim1,dim2);\n",
    "S = rand(1:dim2,50);"
   ]
  },
  {
   "cell_type": "code",
   "execution_count": null,
   "id": "d3fcdd97-bbde-4089-802c-56c19fae12aa",
   "metadata": {},
   "outputs": [],
   "source": [
    "@btime test1(x,W1) #scales approximately linearly with increasing dim2"
   ]
  },
  {
   "cell_type": "code",
   "execution_count": null,
   "id": "5d6c6ee5-8382-439b-a654-d8cb5a1082d9",
   "metadata": {},
   "outputs": [],
   "source": [
    "@btime test2(x,W2,S) #runs in constant time with increasing dim2"
   ]
  },
  {
   "cell_type": "code",
   "execution_count": null,
   "id": "446cf537-d45f-454f-b13b-de7009805974",
   "metadata": {},
   "outputs": [],
   "source": [
    "@btime Zygote.gradient(w -> test1(x,w),W1) # 1.554 ms -2x-> 4.073 ms -3x-> 7.634 ms  :scales approx linearly"
   ]
  },
  {
   "cell_type": "code",
   "execution_count": 10,
   "id": "eeb2ae57-274d-4a20-a869-fead73210784",
   "metadata": {},
   "outputs": [
    {
     "name": "stdout",
     "output_type": "stream",
     "text": [
      "  244.167 μs (74 allocations: 6.29 MiB)\n"
     ]
    },
    {
     "data": {
      "text/plain": [
       "Grads(...)"
      ]
     },
     "execution_count": 10,
     "metadata": {},
     "output_type": "execute_result"
    }
   ],
   "source": [
    "@btime begin\n",
    "    tempW2 = view(W2,:,:)\n",
    "    g = gradient(() -> test2(x,W2,S), Flux.params(tempW2))\n",
    "end # 321.709 μs -2x-> 488.125 μs -3x-> 810.333 μs  :scales approx linearly"
   ]
  },
  {
   "cell_type": "code",
   "execution_count": null,
   "id": "c673de49-637b-4450-8715-ee660530368f",
   "metadata": {},
   "outputs": [],
   "source": [
    "g[1]"
   ]
  },
  {
   "cell_type": "code",
   "execution_count": null,
   "id": "6022f3ef-0379-4d64-bf3a-1a305579f689",
   "metadata": {},
   "outputs": [],
   "source": [
    "Flux.update!(Descent(),tempW2,g[1])"
   ]
  },
  {
   "cell_type": "code",
   "execution_count": null,
   "id": "6da7a7a7-f814-4b0a-9714-187736b1f3c0",
   "metadata": {},
   "outputs": [],
   "source": [
    "W2"
   ]
  },
  {
   "cell_type": "code",
   "execution_count": null,
   "id": "6c34492d-6ab6-40b7-8bc3-d3b94f9b0add",
   "metadata": {},
   "outputs": [],
   "source": []
  },
  {
   "cell_type": "code",
   "execution_count": null,
   "id": "fdc1b92e-7d03-42d8-a858-8571566433fd",
   "metadata": {},
   "outputs": [],
   "source": [
    "t = [50 * exp(x) for x in LinRange(0,5,100000)]\n",
    "plot(t)"
   ]
  },
  {
   "cell_type": "code",
   "execution_count": null,
   "id": "962388af-c327-4926-88ab-8cb9b28dee02",
   "metadata": {},
   "outputs": [],
   "source": [
    "t[10000:end]"
   ]
  },
  {
   "cell_type": "code",
   "execution_count": 34,
   "id": "07e9ef2f-4a47-4c60-b8e5-34176a435022",
   "metadata": {},
   "outputs": [],
   "source": [
    "x = randn(1,784)\n",
    "dim1,dim2,dim3 = 784,20000,250\n",
    "WM1 = randn(dim1,dim2)\n",
    "WM2 = randn(dim2,dim3);"
   ]
  },
  {
   "cell_type": "code",
   "execution_count": 35,
   "id": "7ee8af51-c4de-44fa-9cd2-c6000c5d2b4f",
   "metadata": {},
   "outputs": [
    {
     "data": {
      "text/plain": [
       "test3 (generic function with 1 method)"
      ]
     },
     "execution_count": 35,
     "metadata": {},
     "output_type": "execute_result"
    }
   ],
   "source": [
    "function test3_(x,W1,W2)\n",
    "    S1 = rand(1:size(W1)[2],50)\n",
    "    layer1 = x * (view(W1,:,S1)) .|> relu\n",
    "    S2 = rand(1:size(W2)[2],50)\n",
    "    layer2 = layer1 * (view(W2,S1,S2))\n",
    "    return layer2, S1, S2\n",
    "end\n",
    "\n",
    "function test3(x,W1,W2)\n",
    "    test3_(x,W1,W2)[1] |> sum\n",
    "end"
   ]
  },
  {
   "cell_type": "code",
   "execution_count": 38,
   "id": "d86434ef-9434-44be-8df4-b7036bd261de",
   "metadata": {},
   "outputs": [
    {
     "data": {
      "text/plain": [
       "247.08838225957322"
      ]
     },
     "execution_count": 38,
     "metadata": {},
     "output_type": "execute_result"
    }
   ],
   "source": [
    "test3(x,WM1,WM2)"
   ]
  },
  {
   "cell_type": "code",
   "execution_count": null,
   "id": "1c78ba54-dcf9-4552-9d45-0f609728f28d",
   "metadata": {},
   "outputs": [],
   "source": [
    "@btime begin\n",
    "    _,S1,S2 = test3_(x,WM1,WM2);\n",
    "    gradient((w1,w2) -> test3(x,w1,w2), view(WM1,:,S1), view(WM2,S1,S2))\n",
    "end\n",
    "#305 us -> 309 us -> 312 us -> 318 -> 320"
   ]
  },
  {
   "cell_type": "code",
   "execution_count": null,
   "id": "947446a7-0f99-4ce7-8f81-88342339797b",
   "metadata": {},
   "outputs": [],
   "source": [
    "d = autodiff(test1,x,Active(W1))"
   ]
  },
  {
   "cell_type": "code",
   "execution_count": 1,
   "id": "0ebede9a-ebcd-4c1a-9f67-3d7bea3c1c32",
   "metadata": {},
   "outputs": [],
   "source": [
    "mutable struct layer\n",
    "    W::Matrix\n",
    "    Wview::SubArray\n",
    "end"
   ]
  },
  {
   "cell_type": "code",
   "execution_count": 134,
   "id": "cfa30ee4-978f-4fe8-8237-65e8dc9340f4",
   "metadata": {},
   "outputs": [],
   "source": [
    "#Flux.trainable(a::layer) = (a.Wview)"
   ]
  },
  {
   "cell_type": "code",
   "execution_count": 17,
   "id": "bc672110-9288-4e0a-9901-aed60608b7ed",
   "metadata": {},
   "outputs": [
    {
     "data": {
      "text/plain": [
       "get_view (generic function with 1 method)"
      ]
     },
     "execution_count": 17,
     "metadata": {},
     "output_type": "execute_result"
    }
   ],
   "source": [
    "function get_view(a::Matrix,r,c)\n",
    "    #r,c are arrays, if empty [] then return all elements\n",
    "    d1,d2 = size(a);\n",
    "    return view(a, isempty(r) ? (:) : r, isempty(c) ? (:) : c)\n",
    "end"
   ]
  },
  {
   "cell_type": "code",
   "execution_count": 19,
   "id": "9f87f2bb-49c8-4ec2-8863-cf1fc6ce255b",
   "metadata": {},
   "outputs": [
    {
     "data": {
      "text/plain": [
       "layer([-0.15800899510212627 0.8970761182800473 … -0.5264042242254652 -0.8207015713133116; 0.2610516939898696 0.3440111315509064 … -0.1345688954087462 0.21881853672282225; … ; 0.672726604511416 -1.2011174046594366 … -0.5026151100871522 0.7011518549147665; -1.9567018081299312 0.6645637701950665 … -0.36057278823286654 -3.0038553376298838], [0.7032383914781773 -0.6129517470046456 … -0.3833587692611754 1.7173563810062265; 0.8447411309354508 -1.2306566192647046 … -0.7940599564025127 -0.19013273081314708; … ; 0.7798234031888709 -0.009314728529346984 … -1.3722459417492678 -0.26865380815019463; -0.6504932870838276 1.7595967280095441 … -0.8361120327792004 -0.04092435401053748])"
      ]
     },
     "execution_count": 19,
     "metadata": {},
     "output_type": "execute_result"
    }
   ],
   "source": [
    "dim2 = 10000\n",
    "x3 = randn(784,dim2)\n",
    "x4 = randn(dim2,10)\n",
    "m1 = layer(copy(x3),get_view(x3,[],[]))\n",
    "m2 = layer(copy(x4),get_view(x3,[],[]))"
   ]
  },
  {
   "cell_type": "code",
   "execution_count": 9,
   "id": "9e94865f-4a2e-402a-902d-487cf62f2dd6",
   "metadata": {},
   "outputs": [
    {
     "data": {
      "text/plain": [
       "test4 (generic function with 1 method)"
      ]
     },
     "execution_count": 9,
     "metadata": {},
     "output_type": "execute_result"
    }
   ],
   "source": [
    "function test4(x,ms)\n",
    "    Zygote.ignore() do\n",
    "        S = rand(1:size(ms[1].W)[2],50)\n",
    "        ms[1].Wview = view(ms[1].W,:,S)\n",
    "        ms[2].Wview = view(ms[2].W,S,:)\n",
    "    end\n",
    "    y = x * ms[1].Wview\n",
    "    y = Flux.relu.(y)\n",
    "    y = y * ms[2].Wview\n",
    "    sum(y);\n",
    "end"
   ]
  },
  {
   "cell_type": "code",
   "execution_count": 10,
   "id": "2540217e-3cf1-4af4-a83b-d1d5d7dc3230",
   "metadata": {},
   "outputs": [],
   "source": [
    "#m1.Wview"
   ]
  },
  {
   "cell_type": "code",
   "execution_count": 11,
   "id": "e778aa25-d2d6-42ba-9372-44e5b52fbafd",
   "metadata": {},
   "outputs": [
    {
     "data": {
      "text/plain": [
       "1×784 Matrix{Float64}:\n",
       " -0.807171  0.346642  0.377439  -0.0611428  …  0.194407  -0.890997  0.557802"
      ]
     },
     "execution_count": 11,
     "metadata": {},
     "output_type": "execute_result"
    }
   ],
   "source": [
    "x = randn(1,784)"
   ]
  },
  {
   "cell_type": "code",
   "execution_count": 20,
   "id": "1e5f150f-ec39-46e1-9a06-6e49bff1ba75",
   "metadata": {},
   "outputs": [
    {
     "data": {
      "text/plain": [
       "494.2163675403265"
      ]
     },
     "execution_count": 20,
     "metadata": {},
     "output_type": "execute_result"
    }
   ],
   "source": [
    "test4(x,[m1,m2])"
   ]
  },
  {
   "cell_type": "code",
   "execution_count": 66,
   "id": "948f0772-596c-4fb5-bcc7-a6d9d5b6d815",
   "metadata": {},
   "outputs": [
    {
     "name": "stdout",
     "output_type": "stream",
     "text": [
      "  150.208 μs (148 allocations: 328.52 KiB)\n"
     ]
    },
    {
     "data": {
      "text/plain": [
       "(Base.RefValue{Any}[Base.RefValue{Any}((W = nothing, Wview = [-0.2697219406547307 -0.7575446939802694 … 0.1870144551527984 1.507406281144613; 0.1894300944407582 0.5320359277240755 … -0.13134328566444042 -1.0586758848934148; … ; -0.8521688315429239 -2.393412916812281 … 0.590859940212289 4.76255156011884; 0.718454481555286 2.0178609832310888 … -0.4981477335288166 -4.015256584555275])), Base.RefValue{Any}((W = nothing, Wview = [-0.6136838467288679 -0.6136838467288679 … -0.6136838467288679 -0.6136838467288679; 20.32797472305305 20.32797472305305 … 20.32797472305305 20.32797472305305; … ; -21.493028086200155 -21.493028086200155 … -21.493028086200155 -21.493028086200155; -22.911043803392282 -22.911043803392282 … -22.911043803392282 -22.911043803392282]))],)"
      ]
     },
     "execution_count": 66,
     "metadata": {},
     "output_type": "execute_result"
    }
   ],
   "source": [
    "@btime begin\n",
    "    gradient((w) -> test4(x,w), [m1,m2])\n",
    "end\n",
    "# 144.333 μs (148 allocations: 328.52 KiB)\n",
    "# 150.208 μs (148 allocations: 328.52 KiB)"
   ]
  },
  {
   "cell_type": "code",
   "execution_count": 151,
   "id": "a19e8efa-f5d2-49e9-8475-cc23e68d915e",
   "metadata": {},
   "outputs": [],
   "source": [
    "#gs = gradient((w) -> test4(x,w), [m1,m2])"
   ]
  },
  {
   "cell_type": "code",
   "execution_count": 13,
   "id": "69011711-af95-4aef-a402-f5cc34e17d3d",
   "metadata": {},
   "outputs": [
    {
     "data": {
      "text/plain": [
       "ADAM(0.001, (0.9, 0.999), IdDict{Any, Any}())"
      ]
     },
     "execution_count": 13,
     "metadata": {},
     "output_type": "execute_result"
    }
   ],
   "source": [
    "opt = ADAM()"
   ]
  },
  {
   "cell_type": "code",
   "execution_count": 49,
   "id": "e672dc08-3a88-404c-a2d9-e6fc0c28aab2",
   "metadata": {},
   "outputs": [
    {
     "data": {
      "text/plain": [
       "(Base.RefValue{Any}[Base.RefValue{Any}((W = nothing, Wview = [1.167698129952942 0.0 … -3.3410579443070247 0.0; -0.5014711114221566 0.0 … 1.43482634567976 0.0; … ; 1.2889657896352384 0.0 … -3.688033131965658 0.0; -0.8069476361627049 0.0 … 2.308866256855126 0.0])), Base.RefValue{Any}((W = nothing, Wview = [12.322694373950252 12.322694373950252 … 12.322694373950252 12.322694373950252; 0.0 0.0 … 0.0 0.0; … ; 4.78461171717355 4.78461171717355 … 4.78461171717355 4.78461171717355; 0.0 0.0 … 0.0 0.0]))],)"
      ]
     },
     "execution_count": 49,
     "metadata": {},
     "output_type": "execute_result"
    }
   ],
   "source": [
    "ps_ = [m1.Wview,m2.Wview]\n",
    "ps = Flux.Params(ps_)\n",
    "gs = gradient((w) -> test4(x,w), [m1,m2])"
   ]
  },
  {
   "cell_type": "code",
   "execution_count": 45,
   "id": "c3e07a25-e586-4de9-b70a-bb1b7267bf07",
   "metadata": {},
   "outputs": [
    {
     "data": {
      "text/plain": [
       "Grads(...)"
      ]
     },
     "execution_count": 45,
     "metadata": {},
     "output_type": "execute_result"
    }
   ],
   "source": [
    "ps_ = [m1.Wview,m2.Wview]\n",
    "ps = Flux.Params(ps_)\n",
    "gs = Flux.gradient(ps) do\n",
    "   test4(x,[m1,m2]) \n",
    "end"
   ]
  },
  {
   "cell_type": "code",
   "execution_count": 50,
   "id": "b8d32879-5580-4288-b689-33700784ccf9",
   "metadata": {},
   "outputs": [],
   "source": [
    "#ps[1]"
   ]
  },
  {
   "cell_type": "code",
   "execution_count": 22,
   "id": "15b41782-322b-4b81-8b7d-a9ef1deabf4d",
   "metadata": {},
   "outputs": [],
   "source": [
    "#ps_[1]"
   ]
  },
  {
   "cell_type": "code",
   "execution_count": 51,
   "id": "f5c78f11-2603-489f-ba8a-1121b4b67b3f",
   "metadata": {},
   "outputs": [
    {
     "ename": "LoadError",
     "evalue": "MethodError: no method matching getindex(::Tuple{Vector{Base.RefValue{Any}}}, ::SubArray{Float64, 2, Matrix{Float64}, Tuple{Base.Slice{Base.OneTo{Int64}}, Vector{Int64}}, false})\n\u001b[0mClosest candidates are:\n\u001b[0m  getindex(::Tuple, \u001b[91m::Int64\u001b[39m) at tuple.jl:29\n\u001b[0m  getindex(::Tuple, \u001b[91m::Real\u001b[39m) at tuple.jl:30\n\u001b[0m  getindex(::Tuple, \u001b[91m::Colon\u001b[39m) at tuple.jl:33\n\u001b[0m  ...",
     "output_type": "error",
     "traceback": [
      "MethodError: no method matching getindex(::Tuple{Vector{Base.RefValue{Any}}}, ::SubArray{Float64, 2, Matrix{Float64}, Tuple{Base.Slice{Base.OneTo{Int64}}, Vector{Int64}}, false})\n\u001b[0mClosest candidates are:\n\u001b[0m  getindex(::Tuple, \u001b[91m::Int64\u001b[39m) at tuple.jl:29\n\u001b[0m  getindex(::Tuple, \u001b[91m::Real\u001b[39m) at tuple.jl:30\n\u001b[0m  getindex(::Tuple, \u001b[91m::Colon\u001b[39m) at tuple.jl:33\n\u001b[0m  ...",
      "",
      "Stacktrace:",
      " [1] update!(opt::ADAM, xs::Params, gs::Tuple{Vector{Base.RefValue{Any}}})",
      "   @ Flux.Optimise ~/.julia/packages/Flux/Zz9RI/src/optimise/train.jl:31",
      " [2] top-level scope",
      "   @ In[51]:1",
      " [3] eval",
      "   @ ./boot.jl:360 [inlined]",
      " [4] include_string(mapexpr::typeof(REPL.softscope), mod::Module, code::String, filename::String)",
      "   @ Base ./loading.jl:1094"
     ]
    }
   ],
   "source": [
    "Flux.update!(opt,ps,gs)"
   ]
  },
  {
   "cell_type": "code",
   "execution_count": 32,
   "id": "9b773c98-d8b5-450e-b7eb-25b77ee4dd01",
   "metadata": {},
   "outputs": [],
   "source": [
    "gs[keys(gs)[2]]"
   ]
  },
  {
   "cell_type": "code",
   "execution_count": 48,
   "id": "7b9739ce-2a24-44f8-979b-83f991721765",
   "metadata": {},
   "outputs": [
    {
     "data": {
      "text/plain": [
       "784×50 view(::Matrix{Float64}, :, [7859, 4214, 5492, 4630, 8724, 4046, 6727, 7046, 6571, 845  …  3590, 5635, 3462, 485, 8231, 8715, 7238, 9142, 9322, 1425]) with eltype Float64:\n",
       "  0.013585   -1.24705     0.742505   …   3.2127     -1.32154    -1.1915\n",
       " -2.68882     0.668496    0.990674      -1.12904    -0.44524     1.53585\n",
       " -0.0827462  -0.80611     0.719515      -1.84538    -0.177525   -1.20195\n",
       "  1.95749     0.0697655   1.19909        0.157741    0.573435   -0.134393\n",
       " -0.355637   -0.090916    0.406813      -1.26082    -0.0203429  -0.214067\n",
       " -0.373272    1.03781     0.981843   …   0.607604   -0.584948   -1.66621\n",
       "  0.106565   -0.923595    1.81244        0.281849    1.21781     0.85089\n",
       "  0.89297    -0.892133   -0.61964        0.777655   -1.58092     1.12252\n",
       " -0.738564    0.341992   -2.24906        1.0063      0.249455    2.52767\n",
       "  0.339343    0.307758   -0.496446       0.530877    0.809195   -2.0146\n",
       " -0.0110729  -0.906679    0.0675756  …   1.13557     1.07278     0.107747\n",
       " -0.540206   -0.607874   -0.980401      -0.951516   -1.37725     1.7245\n",
       "  0.231664   -2.05467    -0.461739      -0.0134012   0.264267    0.212493\n",
       "  ⋮                                  ⋱                          \n",
       "  1.07379     0.723513   -0.138433       0.0112746  -1.02253     0.0946821\n",
       "  0.184503   -0.160367   -0.975044       0.900307    1.85448     1.38764\n",
       " -0.619483    0.882587    0.245903      -0.509215    0.229069    0.246968\n",
       "  0.360159    1.3011      1.2035     …   0.906482   -0.780993    0.952996\n",
       " -1.36236     0.857135    0.887699       1.26711    -2.26695    -0.209198\n",
       " -0.169532   -1.25949    -1.51412        0.389651   -0.345562   -1.57078\n",
       " -0.546356   -0.651895    0.280285       0.979202    0.334811   -0.978138\n",
       " -1.41791    -0.333787   -1.9888        -0.688053    1.98843    -0.0464369\n",
       "  0.917073    0.149977    0.356429   …  -0.192265   -0.0912696  -0.452364\n",
       " -0.516013   -1.13112     2.15833        1.14369    -0.565472   -0.194127\n",
       " -1.07069     0.735656   -0.607514       0.182549    0.473555   -0.684823\n",
       " -0.386821    0.546135    0.379695      -1.33193     1.01173    -0.937188"
      ]
     },
     "execution_count": 48,
     "metadata": {},
     "output_type": "execute_result"
    }
   ],
   "source": [
    "m1.Wview #0.013585"
   ]
  },
  {
   "cell_type": "code",
   "execution_count": 129,
   "id": "e1f71460-0d5e-4896-82e1-cb34cb5ebf99",
   "metadata": {},
   "outputs": [
    {
     "data": {
      "text/plain": [
       "784×50 view(::Matrix{Float64}, :, [8668, 4828, 4943, 268, 4750, 4716, 5044, 5512, 4413, 3249  …  2268, 8761, 2742, 5225, 615, 1077, 5561, 9293, 9936, 316]) with eltype Float64:\n",
       "  0.780976   -1.58842     0.257255   …  -1.01771   -1.51509      1.65517\n",
       " -1.25786    -0.20717    -1.25822        1.15939    0.471244    -0.671743\n",
       "  1.16555     0.246312    0.670447      -0.179959   0.0654916   -1.3876\n",
       "  0.8739     -0.400095    0.719001      -0.309691  -1.4436      -0.215796\n",
       "  1.51037     0.589977   -0.687516       0.472304  -0.798547     1.25884\n",
       " -0.0151287   0.863321   -1.44593    …   0.122563   0.00187823   1.78311\n",
       "  1.52352    -1.05138    -0.315093       0.871862   0.631322     0.713788\n",
       " -0.452527   -0.201084    0.0795442      0.206121   0.85076      1.10328\n",
       "  1.57659    -0.420705    2.22916        0.118898   0.223046    -1.10166\n",
       "  0.56751    -1.594       1.97352        1.74448    0.825656     0.471841\n",
       " -1.28322    -0.0955239  -0.648455   …   0.510153  -0.354664    -0.0479271\n",
       "  0.973216    1.81132     1.10119        1.00293    1.27132     -0.548789\n",
       " -3.28527    -0.654396   -0.472194      -0.177584   0.539175    -0.43832\n",
       "  ⋮                                  ⋱                          \n",
       " -0.209731    0.474852    0.148194      -1.88523    0.135337     1.55909\n",
       " -0.583509    0.525611    0.188502       1.15163   -1.39932     -0.944502\n",
       " -1.09179    -0.114503    1.21533       -0.47049   -1.8336      -1.10213\n",
       " -1.72917     1.92665    -0.922027   …  -0.758642   0.415411     1.08571\n",
       "  0.657426    0.548299    0.0170393     -0.409552   1.16786      0.402765\n",
       " -0.268294   -0.266467   -1.66406        1.10592    0.533129     0.333837\n",
       "  1.06918    -0.378725   -1.30681       -1.09487   -0.912125     1.98658\n",
       " -0.508696    1.80505     1.47568       -0.384076   0.463503    -0.997581\n",
       "  2.94483     0.808135   -0.581755   …  -1.23604    2.47773     -0.541074\n",
       " -0.196258    1.23107     0.161547      -0.357459  -0.550107    -0.71356\n",
       "  0.232639    0.902328    0.0231531      0.56034    0.65031     -2.04562\n",
       "  0.506233   -1.79259    -0.776749       2.07844   -1.40496      1.41557"
      ]
     },
     "execution_count": 129,
     "metadata": {},
     "output_type": "execute_result"
    }
   ],
   "source": [
    "Flux.params([m1.Wview,m2.Wview])[1]"
   ]
  },
  {
   "cell_type": "code",
   "execution_count": null,
   "id": "40a72ccd-fc5c-4748-88a3-b77769bd186f",
   "metadata": {},
   "outputs": [],
   "source": []
  }
 ],
 "metadata": {
  "kernelspec": {
   "display_name": "Julia 1.6.0",
   "language": "julia",
   "name": "julia-1.6"
  },
  "language_info": {
   "file_extension": ".jl",
   "mimetype": "application/julia",
   "name": "julia",
   "version": "1.6.0"
  }
 },
 "nbformat": 4,
 "nbformat_minor": 5
}
